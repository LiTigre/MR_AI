{
  "nbformat": 4,
  "nbformat_minor": 0,
  "metadata": {
    "colab": {
      "name": "Download_data_from_drive.ipynb",
      "version": "0.3.2",
      "views": {},
      "default_view": {},
      "provenance": []
    },
    "kernelspec": {
      "name": "python3",
      "display_name": "Python 3"
    },
    "accelerator": "GPU"
  },
  "cells": [
    {
      "metadata": {
        "id": "a4OMTmZ0CXeH",
        "colab_type": "code",
        "colab": {
          "autoexec": {
            "startup": false,
            "wait_interval": 0
          }
        }
      },
      "cell_type": "code",
      "source": [
        "!pip install -U -q PyDrive\n",
        "\n",
        "\n",
        "\n",
        "# import statemnts\n",
        "import os\n",
        "from pydrive.auth import GoogleAuth\n",
        "from pydrive.drive import GoogleDrive\n",
        "from google.colab import auth\n",
        "from oauth2client.client import GoogleCredentials\n",
        "\n",
        "\n",
        "def download_data(folder_path_list): #list of tupples of (folder_path, folder_name)\n",
        "  # authenticate and create the PyDrive client.\n",
        "  auth.authenticate_user()\n",
        "  gauth = GoogleAuth()\n",
        "  gauth.credentials = GoogleCredentials.get_application_default()\n",
        "  drive = GoogleDrive(gauth)\n",
        "\n",
        "  for folder_path, folder_name in folder_path_list: \n",
        "    \n",
        "    name = '~/data/' + folder_name\n",
        "    # choose a local (colab) directory to store the data.\n",
        "    local_download_path = os.path.expanduser(name)\n",
        "    try:\n",
        "      os.makedirs(local_download_path)\n",
        "    except: pass\n",
        "\n",
        "    # auto-iterate using the query syntax via https://developers.google.com/drive/v2/web/search-parameters\n",
        "    \n",
        "    key = \"'\" + folder_path + \"'\" + \" in parents\" #\"'1SooKSw8M4ACbznKjnNrYvJ5wxuqJ-YCk' in parents\"\n",
        "    \n",
        "    file_list = drive.ListFile(\n",
        "      {'q': key}).GetList()\n",
        "\n",
        "    for f in file_list:\n",
        "    # 3. Create & download by id.\n",
        "      print('title: %s, id: %s' % (f['title'], f['id']))\n",
        "      fname = os.path.join(local_download_path, f['title'])\n",
        "      print('downloading to {}'.format(fname))\n",
        "      f_ = drive.CreateFile({'id': f['id']})\n",
        "      f_.GetContentFile(fname)\n",
        "\n"
      ],
      "execution_count": 0,
      "outputs": []
    }
  ]
}